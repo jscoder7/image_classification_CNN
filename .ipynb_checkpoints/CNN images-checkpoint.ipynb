{
 "cells": [
  {
   "cell_type": "markdown",
   "id": "ae870ab9",
   "metadata": {},
   "source": [
    "# Image Classification Using Convolutional Neural Network (CNN)"
   ]
  },
  {
   "cell_type": "code",
   "execution_count": null,
   "id": "e23ae3c3",
   "metadata": {},
   "outputs": [],
   "source": []
  },
  {
   "cell_type": "code",
   "execution_count": null,
   "id": "6083a85c",
   "metadata": {},
   "outputs": [],
   "source": []
  },
  {
   "cell_type": "code",
   "execution_count": 5,
   "id": "bd2ceb74",
   "metadata": {},
   "outputs": [],
   "source": [
    "import tensorflow as tf\n",
    "from tensorflow.keras import datasets, layers, models\n",
    "from tensorflow import keras\n",
    "import numpy as np\n"
   ]
  },
  {
   "cell_type": "code",
   "execution_count": 6,
   "id": "91d7497d",
   "metadata": {},
   "outputs": [],
   "source": [
    "import ssl\n",
    "ssl._create_default_https_context = ssl._create_unverified_context"
   ]
  },
  {
   "cell_type": "code",
   "execution_count": 7,
   "id": "8f1f194a",
   "metadata": {},
   "outputs": [
    {
     "name": "stdout",
     "output_type": "stream",
     "text": [
      "Downloading data from https://www.cs.toronto.edu/~kriz/cifar-10-python.tar.gz\n",
      "170498071/170498071 [==============================] - 500s 3us/step\n"
     ]
    },
    {
     "data": {
      "text/plain": [
       "(50000, 32, 32, 3)"
      ]
     },
     "execution_count": 7,
     "metadata": {},
     "output_type": "execute_result"
    }
   ],
   "source": [
    "(X_train, y_train), (X_test,y_test) = datasets.cifar10.load_data()\n",
    "X_train.shape"
   ]
  },
  {
   "cell_type": "code",
   "execution_count": null,
   "id": "f77e0f69",
   "metadata": {},
   "outputs": [],
   "source": [
    "len(X_train)"
   ]
  },
  {
   "cell_type": "code",
   "execution_count": null,
   "id": "9c3ea197",
   "metadata": {},
   "outputs": [],
   "source": [
    "X_test.shape"
   ]
  },
  {
   "cell_type": "code",
   "execution_count": null,
   "id": "2de0e26b",
   "metadata": {},
   "outputs": [],
   "source": [
    "y_train.shape"
   ]
  },
  {
   "cell_type": "code",
   "execution_count": null,
   "id": "a15cfd3a",
   "metadata": {},
   "outputs": [],
   "source": [
    "y_test.shape"
   ]
  },
  {
   "cell_type": "code",
   "execution_count": null,
   "id": "52bd24d9",
   "metadata": {},
   "outputs": [],
   "source": [
    "y_train[:10]  # class number  0-9"
   ]
  },
  {
   "cell_type": "code",
   "execution_count": null,
   "id": "a16336cf",
   "metadata": {},
   "outputs": [],
   "source": [
    "X_train"
   ]
  },
  {
   "cell_type": "code",
   "execution_count": null,
   "id": "7e922bbb",
   "metadata": {},
   "outputs": [],
   "source": [
    "X_train[0]   #0-49999  32*32*3  (32,32,3)"
   ]
  },
  {
   "cell_type": "code",
   "execution_count": null,
   "id": "782936bc",
   "metadata": {},
   "outputs": [],
   "source": [
    "y_train[0]"
   ]
  },
  {
   "cell_type": "code",
   "execution_count": null,
   "id": "b04e422c",
   "metadata": {},
   "outputs": [],
   "source": [
    "y_train"
   ]
  },
  {
   "cell_type": "markdown",
   "id": "8cf5c9df",
   "metadata": {},
   "source": [
    "y_train is a 2D array, for our classification having 1D array is good enough. so we will convert this to now 1D array"
   ]
  },
  {
   "cell_type": "code",
   "execution_count": null,
   "id": "9776f01c",
   "metadata": {},
   "outputs": [],
   "source": [
    "y_train = y_train.reshape(-1,) # converts 2D to 1D\n",
    "y_train[:5]"
   ]
  },
  {
   "cell_type": "code",
   "execution_count": null,
   "id": "8ce58ecd",
   "metadata": {},
   "outputs": [],
   "source": [
    "y_test = y_test.reshape(-1,)\n",
    "y_test"
   ]
  },
  {
   "cell_type": "code",
   "execution_count": null,
   "id": "58e1b2a1",
   "metadata": {},
   "outputs": [],
   "source": [
    "import matplotlib.pyplot as plt\n",
    "plt.figure(figsize = (5,1))\n",
    "plt.imshow(X_train[123])"
   ]
  },
  {
   "cell_type": "code",
   "execution_count": null,
   "id": "b6257cd1",
   "metadata": {},
   "outputs": [],
   "source": [
    "y_train[123]  "
   ]
  },
  {
   "cell_type": "code",
   "execution_count": null,
   "id": "c7dbdc6e",
   "metadata": {},
   "outputs": [],
   "source": [
    "classes = [\"airplane\",\"automobile\",\"bird\",\"cat\",\"deer\",\"dog\",\"frog\",\"horse\",\"ship\",\"truck\"]"
   ]
  },
  {
   "cell_type": "code",
   "execution_count": null,
   "id": "afaacd96",
   "metadata": {},
   "outputs": [],
   "source": [
    "def plot_sample(X, y, index):\n",
    "    plt.figure(figsize = (10,1))\n",
    "    plt.imshow(X[index])  #x_train[1]\n",
    "    plt.xlabel(classes[y[index]])  #classes(y_train[1])"
   ]
  },
  {
   "cell_type": "code",
   "execution_count": null,
   "id": "1bd293fb",
   "metadata": {},
   "outputs": [],
   "source": [
    "plt.figure(figsize = (10,1))\n",
    "plt.imshow(X_train[12])"
   ]
  },
  {
   "cell_type": "code",
   "execution_count": null,
   "id": "9780471b",
   "metadata": {},
   "outputs": [],
   "source": [
    "y_train[12]"
   ]
  },
  {
   "cell_type": "code",
   "execution_count": null,
   "id": "b59ddafe",
   "metadata": {},
   "outputs": [],
   "source": [
    "plot_sample(X_train, y_train, 1245)"
   ]
  },
  {
   "cell_type": "code",
   "execution_count": null,
   "id": "da657c52",
   "metadata": {},
   "outputs": [],
   "source": [
    "y_train[1245]"
   ]
  },
  {
   "cell_type": "code",
   "execution_count": null,
   "id": "087bc73e",
   "metadata": {
    "scrolled": true
   },
   "outputs": [],
   "source": [
    "plot_sample(X_train, y_train, 456)"
   ]
  },
  {
   "cell_type": "markdown",
   "id": "b14d0f7f",
   "metadata": {},
   "source": [
    "Normalize the images to a number from 0 to 1. Image has 3 channels (R,G,B) and each value in the channel can range from 0 to 255. Hence to normalize in 0-->1 range, we need to divide it by 255"
   ]
  },
  {
   "cell_type": "markdown",
   "id": "afaa44d1",
   "metadata": {},
   "source": [
    "# Normalizing the training data"
   ]
  },
  {
   "cell_type": "code",
   "execution_count": null,
   "id": "bdf7e421",
   "metadata": {},
   "outputs": [],
   "source": [
    "X_train = X_train / 255.0\n",
    "X_test = X_test / 255.0"
   ]
  },
  {
   "cell_type": "code",
   "execution_count": null,
   "id": "9cf8d8d7",
   "metadata": {},
   "outputs": [],
   "source": [
    "X_train[0]"
   ]
  },
  {
   "cell_type": "code",
   "execution_count": null,
   "id": "0046e488",
   "metadata": {},
   "outputs": [],
   "source": [
    "\n",
    "ann.fit(X_train, y_train, epochs=5)  "
   ]
  },
  {
   "cell_type": "code",
   "execution_count": null,
   "id": "605e77fe",
   "metadata": {},
   "outputs": [],
   "source": []
  },
  {
   "cell_type": "markdown",
   "id": "24781145",
   "metadata": {},
   "source": [
    "Now let us build a convolutional neural network to train our images"
   ]
  },
  {
   "cell_type": "code",
   "execution_count": null,
   "id": "79e0e139",
   "metadata": {},
   "outputs": [],
   "source": [
    "X_train.shape"
   ]
  },
  {
   "cell_type": "code",
   "execution_count": null,
   "id": "d5561886",
   "metadata": {},
   "outputs": [],
   "source": [
    "cnn = models.Sequential([\n",
    "    #feature extraction\n",
    "    layers.Conv2D(filters=32, kernel_size=(3, 3), activation='relu', input_shape=(32, 32, 3)), # (28,28,1)\n",
    "    layers.MaxPooling2D(2, 2),\n",
    "    \n",
    "     layers.Conv2D(filters=32, kernel_size=(3, 3), activation='relu'),\n",
    "    layers.MaxPooling2D(2, 2),\n",
    "    \n",
    "    #classification \n",
    "    # dimension conversion\n",
    "    layers.Flatten(),\n",
    "    \n",
    "    #input layer , no of nodes for hidden layer 1= 200\n",
    "    layers.Dense(200, activation='sigmoid'),\n",
    "    \n",
    "    #hidden layer 1, no of nodes for hidden layer 2 =100\n",
    "    layers.Dense(100, activation='sigmoid'),\n",
    "    \n",
    "    #hidden layer 2, outcomes= 10(0-9 classes)\n",
    "    layers.Dense(10, activation='sigmoid')\n",
    "])"
   ]
  },
  {
   "cell_type": "code",
   "execution_count": null,
   "id": "0bef3d53",
   "metadata": {},
   "outputs": [],
   "source": [
    "cnn.compile(optimizer='adam',\n",
    "              loss='sparse_categorical_crossentropy',\n",
    "              metrics=['accuracy'])"
   ]
  },
  {
   "cell_type": "code",
   "execution_count": null,
   "id": "ae2ce13a",
   "metadata": {},
   "outputs": [],
   "source": [
    "cnn.fit(X_train, y_train, epochs=10)"
   ]
  },
  {
   "cell_type": "markdown",
   "id": "c17316df",
   "metadata": {},
   "source": [
    "After the completion of 10 epochs data model will predict more accurately "
   ]
  },
  {
   "cell_type": "code",
   "execution_count": null,
   "id": "bab93c2b",
   "metadata": {},
   "outputs": [],
   "source": [
    "cnn.evaluate(X_test,y_test)"
   ]
  },
  {
   "cell_type": "code",
   "execution_count": null,
   "id": "7c293fa9",
   "metadata": {},
   "outputs": [],
   "source": [
    "y_pred = cnn.predict(X_test)\n",
    "y_pred[:5]"
   ]
  },
  {
   "cell_type": "code",
   "execution_count": null,
   "id": "9c8537e4",
   "metadata": {},
   "outputs": [],
   "source": [
    "y_classes = [np.argmax(element) for element in y_pred]\n",
    "y_classes[:5]"
   ]
  },
  {
   "cell_type": "code",
   "execution_count": null,
   "id": "d3105e58",
   "metadata": {},
   "outputs": [],
   "source": [
    "y_test[:5]"
   ]
  },
  {
   "cell_type": "code",
   "execution_count": null,
   "id": "c7877a27",
   "metadata": {},
   "outputs": [],
   "source": [
    " plot_sample(X_test, y_test,3)"
   ]
  },
  {
   "cell_type": "code",
   "execution_count": null,
   "id": "ea6730c5",
   "metadata": {},
   "outputs": [],
   "source": [
    "classes[y_classes[3]]"
   ]
  },
  {
   "cell_type": "markdown",
   "id": "bd5878b6",
   "metadata": {},
   "source": [
    "Report will be generated to show performance of the model"
   ]
  },
  {
   "cell_type": "code",
   "execution_count": null,
   "id": "5be52d49",
   "metadata": {},
   "outputs": [],
   "source": [
    "from sklearn.metrics import  classification_report\n",
    "import numpy as np\n",
    "y_pred = cnn.predict(X_test)\n",
    "y_pred_classes = [np.argmax(element) for element in y_pred]\n",
    "\n",
    "print(\"Classification Report: \\n\", classification_report(y_test, y_pred_classes))"
   ]
  },
  {
   "cell_type": "code",
   "execution_count": null,
   "id": "9f9c34e9",
   "metadata": {},
   "outputs": [],
   "source": []
  },
  {
   "cell_type": "code",
   "execution_count": null,
   "id": "64e7f6c8",
   "metadata": {},
   "outputs": [],
   "source": []
  }
 ],
 "metadata": {
  "kernelspec": {
   "display_name": "Python 3 (ipykernel)",
   "language": "python",
   "name": "python3"
  },
  "language_info": {
   "codemirror_mode": {
    "name": "ipython",
    "version": 3
   },
   "file_extension": ".py",
   "mimetype": "text/x-python",
   "name": "python",
   "nbconvert_exporter": "python",
   "pygments_lexer": "ipython3",
   "version": "3.11.5"
  }
 },
 "nbformat": 4,
 "nbformat_minor": 5
}
